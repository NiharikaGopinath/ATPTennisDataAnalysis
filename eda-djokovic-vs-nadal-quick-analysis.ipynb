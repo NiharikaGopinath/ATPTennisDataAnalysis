{
 "cells": [
  {
   "cell_type": "code",
   "execution_count": 3,
   "id": "a58f960e",
   "metadata": {
    "_cell_guid": "b1076dfc-b9ad-4769-8c92-a6c4dae69d19",
    "_uuid": "8f2839f25d086af736a60e9eeb907d3b93b6e0e5",
    "execution": {
     "iopub.execute_input": "2022-03-10T00:22:55.555015Z",
     "iopub.status.busy": "2022-03-10T00:22:55.554213Z",
     "iopub.status.idle": "2022-03-10T00:22:56.639102Z",
     "shell.execute_reply": "2022-03-10T00:22:56.638117Z",
     "shell.execute_reply.started": "2022-03-10T00:15:26.082308Z"
    },
    "papermill": {
     "duration": 1.115218,
     "end_time": "2022-03-10T00:22:56.639273",
     "exception": false,
     "start_time": "2022-03-10T00:22:55.524055",
     "status": "completed"
    },
    "tags": []
   },
   "outputs": [
    {
     "ename": "ModuleNotFoundError",
     "evalue": "No module named 'pandas'",
     "output_type": "error",
     "traceback": [
      "\u001b[1;31m---------------------------------------------------------------------------\u001b[0m",
      "\u001b[1;31mModuleNotFoundError\u001b[0m                       Traceback (most recent call last)",
      "Cell \u001b[1;32mIn[3], line 1\u001b[0m\n\u001b[1;32m----> 1\u001b[0m \u001b[38;5;28;01mimport\u001b[39;00m \u001b[38;5;21;01mpandas\u001b[39;00m \u001b[38;5;28;01mas\u001b[39;00m \u001b[38;5;21;01mpd\u001b[39;00m\n\u001b[0;32m      2\u001b[0m \u001b[38;5;28;01mimport\u001b[39;00m \u001b[38;5;21;01mmatplotlib\u001b[39;00m\u001b[38;5;21;01m.\u001b[39;00m\u001b[38;5;21;01mpyplot\u001b[39;00m \u001b[38;5;28;01mas\u001b[39;00m \u001b[38;5;21;01mplt\u001b[39;00m\n\u001b[0;32m      3\u001b[0m \u001b[38;5;28;01mimport\u001b[39;00m \u001b[38;5;21;01mseaborn\u001b[39;00m \u001b[38;5;28;01mas\u001b[39;00m \u001b[38;5;21;01msns\u001b[39;00m\n",
      "\u001b[1;31mModuleNotFoundError\u001b[0m: No module named 'pandas'"
     ]
    }
   ],
   "source": [
    "import pandas as pd\n",
    "import matplotlib.pyplot as plt\n",
    "import seaborn as sns\n",
    "from scipy.stats import norm\n",
    "import numpy as np"
   ]
  },
  {
   "cell_type": "markdown",
   "id": "da306765",
   "metadata": {
    "papermill": {
     "duration": 0.018346,
     "end_time": "2022-03-10T00:22:56.677566",
     "exception": false,
     "start_time": "2022-03-10T00:22:56.659220",
     "status": "completed"
    },
    "tags": []
   },
   "source": [
    "# METADATA\n",
    "* ATP:Tournament number\n",
    "* Location:Venue of tournament\n",
    "* Tournament:Name of tournament\n",
    "* Date:Date of match\n",
    "* Series:Name of ATP tennis series\n",
    "* Court:Type of court\n",
    "* Surface:Type of surface\n",
    "* Round:Round of match\n",
    "* Best of: Maximum number of sets playable in match\n",
    "* Winner: Match winner\n",
    "* Loser: Match loser\n",
    "* WRank: ATP Entry ranking of the match winner as of the start of the tournament\n",
    "* LRank: ATP Entry ranking of the match loser as of the start of the tournament\n",
    "* WPts:  ATP Entry points of the match winner as of the start of the tournament\n",
    "* LPts:  ATP Entry points of the match loser as of the start of the tournament\n",
    "* W1: Number of games won in 1st set by match winner\n",
    "* L1: Number of games won in 1st set by match loser\n",
    "* W2: Number of games won in 2nd set by match winner\n",
    "* L2: Number of games won in 2nd set by match loser\n",
    "* W3: Number of games won in 3rd set by match winner\n",
    "* L3: Number of games won in 3rd set by match loser\n",
    "* W4: Number of games won in 4th set by match winner\n",
    "* L4: Number of games won in 4th set by match loser\n",
    "* W5: Number of games won in 5th set by match winner\n",
    "* L5: Number of games won in 5th set by match loser\n",
    "* Wsets: Number of sets won by match winner\n",
    "* Lsets: Number of sets won by match loser\n",
    "* Comment: Comment on the match (Completed, won through retirement of loser, or via Walkover)\n",
    "* B365W: Bet365 odds of match winner\n",
    "* B365L: Bet365 odds of match loser\n",
    "* PSW: Bet&Win odds of match winner\n",
    "* PSL: Bet&Win odds of match loser\n",
    "* MaxW: Maximum odds of match winner\n",
    "* MaxL: Maximum odds of match loser\n",
    "* AvgW: Average odds of match winner\n",
    "* AvgL: Average odds of match loser\n",
    "* EXW: Expekt odds of match winner\n",
    "* EXL: Expekt odds of match loser\n",
    "* LBW: Ladbrokes odds of match winner\n",
    "* LBL: Ladbrokes odds of match loser\n",
    "* SJW: Stan James odds of match winner\n",
    "* SJL: Stan James odds of match loser\n",
    "* UBW: Unibet odds of match winner\n",
    "* UBL: Unibet odds of match loser\n",
    "* pl1_hand:Winners Nationality\n",
    "* pl1_year_pro: Winners starting year as a pro\n",
    "* pl1_weight: Winners weight\n",
    "* pl1_height: Winners height\n",
    "* pl1_hand: Winners playing hand\n",
    "* pl2_flag: Losers Nationality\n",
    "* pl2_year_pro: Losers starting year as a pro\n",
    "* pl2_weight: Winners weight\n",
    "* pl2_height: Losers height\n",
    "* pl2_hand: Losers playing hand"
   ]
  },
  {
   "cell_type": "code",
   "execution_count": 2,
   "id": "ca0a9600",
   "metadata": {
    "execution": {
     "iopub.execute_input": "2022-03-10T00:22:56.719245Z",
     "iopub.status.busy": "2022-03-10T00:22:56.717539Z",
     "iopub.status.idle": "2022-03-10T00:22:57.153695Z",
     "shell.execute_reply": "2022-03-10T00:22:57.153129Z",
     "shell.execute_reply.started": "2022-03-10T00:16:22.427475Z"
    },
    "papermill": {
     "duration": 0.457592,
     "end_time": "2022-03-10T00:22:57.153843",
     "exception": false,
     "start_time": "2022-03-10T00:22:56.696251",
     "status": "completed"
    },
    "tags": []
   },
   "outputs": [
    {
     "name": "stderr",
     "output_type": "stream",
     "text": [
      "/opt/conda/lib/python3.7/site-packages/IPython/core/interactiveshell.py:3457: DtypeWarning: Columns (36) have mixed types.Specify dtype option on import or set low_memory=False.\n",
      "  exec(code_obj, self.user_global_ns, self.user_ns)\n"
     ]
    }
   ],
   "source": [
    "tenis_data=pd.read_csv(\"tennis_data.csv\")"
   ]
  },
  {
   "cell_type": "markdown",
   "id": "471123c9",
   "metadata": {
    "execution": {
     "iopub.execute_input": "2022-03-10T00:16:45.572021Z",
     "iopub.status.busy": "2022-03-10T00:16:45.571697Z",
     "iopub.status.idle": "2022-03-10T00:16:45.576156Z",
     "shell.execute_reply": "2022-03-10T00:16:45.575216Z",
     "shell.execute_reply.started": "2022-03-10T00:16:45.571996Z"
    },
    "papermill": {
     "duration": 0.018829,
     "end_time": "2022-03-10T00:22:57.192296",
     "exception": false,
     "start_time": "2022-03-10T00:22:57.173467",
     "status": "completed"
    },
    "tags": []
   },
   "source": [
    "# DATA CLEANING"
   ]
  },
  {
   "cell_type": "markdown",
   "id": "3e1a36c5",
   "metadata": {
    "papermill": {
     "duration": 0.018813,
     "end_time": "2022-03-10T00:22:57.230405",
     "exception": false,
     "start_time": "2022-03-10T00:22:57.211592",
     "status": "completed"
    },
    "tags": []
   },
   "source": []
  },
  {
   "cell_type": "code",
   "execution_count": 3,
   "id": "c4c358ef",
   "metadata": {
    "execution": {
     "iopub.execute_input": "2022-03-10T00:22:57.278753Z",
     "iopub.status.busy": "2022-03-10T00:22:57.278110Z",
     "iopub.status.idle": "2022-03-10T00:22:57.302035Z",
     "shell.execute_reply": "2022-03-10T00:22:57.302637Z",
     "shell.execute_reply.started": "2022-03-10T00:16:52.586747Z"
    },
    "papermill": {
     "duration": 0.053239,
     "end_time": "2022-03-10T00:22:57.302799",
     "exception": false,
     "start_time": "2022-03-10T00:22:57.249560",
     "status": "completed"
    },
    "tags": []
   },
   "outputs": [
    {
     "name": "stdout",
     "output_type": "stream",
     "text": [
      "Date range is 2007-12-31 00:00:00  2022-02-20 00:00:00\n"
     ]
    }
   ],
   "source": [
    "tenis_data['Date']=pd.to_datetime(tenis_data['Date'])\n",
    "print('Date range is '+str(tenis_data['Date'].min())+'  '+str(tenis_data['Date'].max()))"
   ]
  },
  {
   "cell_type": "code",
   "execution_count": 4,
   "id": "d2135dcb",
   "metadata": {
    "execution": {
     "iopub.execute_input": "2022-03-10T00:22:57.345700Z",
     "iopub.status.busy": "2022-03-10T00:22:57.344745Z",
     "iopub.status.idle": "2022-03-10T00:22:57.357153Z",
     "shell.execute_reply": "2022-03-10T00:22:57.357669Z",
     "shell.execute_reply.started": "2022-03-10T00:17:06.350168Z"
    },
    "papermill": {
     "duration": 0.035548,
     "end_time": "2022-03-10T00:22:57.357837",
     "exception": false,
     "start_time": "2022-03-10T00:22:57.322289",
     "status": "completed"
    },
    "tags": []
   },
   "outputs": [
    {
     "data": {
      "text/plain": [
       "array(['Brisbane International', 'Qatar Exxon Mobil Open',\n",
       "       'Maharashtra Open', 'ASB Classic', 'Sydney International',\n",
       "       'Australian Open', 'Cordoba Open', 'Open Sud de France',\n",
       "       'Sofia Open', 'Argentina Open', 'New York Open',\n",
       "       'ABN AMRO World Tennis Tournament', 'Delray Beach Open', 'Open 13',\n",
       "       'Rio Open', 'Abierto Mexicano', 'Dubai Tennis Championships',\n",
       "       'Brasil Open', 'BNP Paribas Open', 'Sony Ericsson Open',\n",
       "       \"U.S. Men's Clay Court Championships\", 'Grand Prix Hassan II',\n",
       "       'Monte Carlo Masters', 'Open Banco Sabadell ', 'Hungarian Open',\n",
       "       'Millennium Estoril Open', 'BMW Open', 'Mutua Madrid Open',\n",
       "       \"Internazionali BNL d'Italia\", 'Geneva Open', 'Lyon Open',\n",
       "       'French Open', 'Rosmalen Grass Court Championships',\n",
       "       'Mercedes Cup', 'Halle Open', \"Queen's Club Championships\",\n",
       "       'Antalya Open', 'Eastbourne International', 'Wimbledon',\n",
       "       'SkiStar Swedish Open', 'Hall of Fame Championships',\n",
       "       'Croatia Open', 'BB&T Atlanta Open', 'Suisse Open Gstaad',\n",
       "       'German Tennis Championships', 'Generali Open',\n",
       "       'Abierto Mexicano Mifel', 'Citi Open', 'Rogers Masters',\n",
       "       'Western & Southern Financial Group Masters',\n",
       "       'Winston-Salem Open at Wake Forest University', 'US Open',\n",
       "       'Open de Moselle', 'St. Petersburg Open', 'Chengdu Open',\n",
       "       'Zhuhai Open', 'China Open',\n",
       "       'Rakuten Japan Open Tennis Championships', 'Shanghai Masters',\n",
       "       'European Open', 'Kremlin Cup', 'Stockholm Open', 'Swiss Indoors',\n",
       "       'Erste Bank Open', 'BNP Paribas Masters', 'Masters Cup'],\n",
       "      dtype=object)"
      ]
     },
     "execution_count": 4,
     "metadata": {},
     "output_type": "execute_result"
    }
   ],
   "source": [
    "#Let's check all tournaments played in a normal year\n",
    "tenis_data['Tournament'][(tenis_data['Date']>='2019-01-01') & (tenis_data['Date']<='2019-12-31')].unique()"
   ]
  },
  {
   "cell_type": "markdown",
   "id": "7cb289df",
   "metadata": {
    "papermill": {
     "duration": 0.019719,
     "end_time": "2022-03-10T00:22:57.397484",
     "exception": false,
     "start_time": "2022-03-10T00:22:57.377765",
     "status": "completed"
    },
    "tags": []
   },
   "source": [
    "## Number of Tournaments per Series and total rounds"
   ]
  },
  {
   "cell_type": "code",
   "execution_count": 5,
   "id": "e9856973",
   "metadata": {
    "execution": {
     "iopub.execute_input": "2022-03-10T00:22:57.441482Z",
     "iopub.status.busy": "2022-03-10T00:22:57.440506Z",
     "iopub.status.idle": "2022-03-10T00:22:57.465601Z",
     "shell.execute_reply": "2022-03-10T00:22:57.464902Z",
     "shell.execute_reply.started": "2022-03-10T00:17:46.447267Z"
    },
    "papermill": {
     "duration": 0.048287,
     "end_time": "2022-03-10T00:22:57.465738",
     "exception": false,
     "start_time": "2022-03-10T00:22:57.417451",
     "status": "completed"
    },
    "tags": []
   },
   "outputs": [
    {
     "data": {
      "text/html": [
       "<div>\n",
       "<style scoped>\n",
       "    .dataframe tbody tr th:only-of-type {\n",
       "        vertical-align: middle;\n",
       "    }\n",
       "\n",
       "    .dataframe tbody tr th {\n",
       "        vertical-align: top;\n",
       "    }\n",
       "\n",
       "    .dataframe thead th {\n",
       "        text-align: right;\n",
       "    }\n",
       "</style>\n",
       "<table border=\"1\" class=\"dataframe\">\n",
       "  <thead>\n",
       "    <tr style=\"text-align: right;\">\n",
       "      <th></th>\n",
       "      <th>Tournament</th>\n",
       "    </tr>\n",
       "    <tr>\n",
       "      <th>Series</th>\n",
       "      <th></th>\n",
       "    </tr>\n",
       "  </thead>\n",
       "  <tbody>\n",
       "    <tr>\n",
       "      <th>ATP250</th>\n",
       "      <td>120</td>\n",
       "    </tr>\n",
       "    <tr>\n",
       "      <th>ATP500</th>\n",
       "      <td>27</td>\n",
       "    </tr>\n",
       "    <tr>\n",
       "      <th>Grand Slam</th>\n",
       "      <td>4</td>\n",
       "    </tr>\n",
       "    <tr>\n",
       "      <th>International</th>\n",
       "      <td>41</td>\n",
       "    </tr>\n",
       "    <tr>\n",
       "      <th>International Gold</th>\n",
       "      <td>10</td>\n",
       "    </tr>\n",
       "    <tr>\n",
       "      <th>Masters</th>\n",
       "      <td>9</td>\n",
       "    </tr>\n",
       "    <tr>\n",
       "      <th>Masters 1000</th>\n",
       "      <td>12</td>\n",
       "    </tr>\n",
       "    <tr>\n",
       "      <th>Masters Cup</th>\n",
       "      <td>1</td>\n",
       "    </tr>\n",
       "  </tbody>\n",
       "</table>\n",
       "</div>"
      ],
      "text/plain": [
       "                    Tournament\n",
       "Series                        \n",
       "ATP250                     120\n",
       "ATP500                      27\n",
       "Grand Slam                   4\n",
       "International               41\n",
       "International Gold          10\n",
       "Masters                      9\n",
       "Masters 1000                12\n",
       "Masters Cup                  1"
      ]
     },
     "execution_count": 5,
     "metadata": {},
     "output_type": "execute_result"
    }
   ],
   "source": [
    "all_tournaments=tenis_data[['Tournament','Series']].drop_duplicates(subset=['Tournament','Series'])\n",
    "all_tournaments.groupby('Series').agg({'Tournament':'count'})#count().sort_values( by='Tournament'"
   ]
  },
  {
   "cell_type": "markdown",
   "id": "4adc7131",
   "metadata": {
    "papermill": {
     "duration": 0.020601,
     "end_time": "2022-03-10T00:22:57.508982",
     "exception": false,
     "start_time": "2022-03-10T00:22:57.488381",
     "status": "completed"
    },
    "tags": []
   },
   "source": [
    "## All winners per tournament in the dataset history"
   ]
  },
  {
   "cell_type": "code",
   "execution_count": 6,
   "id": "9dcdbfcc",
   "metadata": {
    "execution": {
     "iopub.execute_input": "2022-03-10T00:22:57.563036Z",
     "iopub.status.busy": "2022-03-10T00:22:57.562243Z",
     "iopub.status.idle": "2022-03-10T00:22:59.679382Z",
     "shell.execute_reply": "2022-03-10T00:22:59.678818Z",
     "shell.execute_reply.started": "2022-03-10T00:18:06.140469Z"
    },
    "papermill": {
     "duration": 2.149892,
     "end_time": "2022-03-10T00:22:59.679527",
     "exception": false,
     "start_time": "2022-03-10T00:22:57.529635",
     "status": "completed"
    },
    "tags": []
   },
   "outputs": [
    {
     "data": {
      "image/png": "[encoded data removed]",
      "text/plain": [
       "<Figure size 1728x576 with 8 Axes>"
      ]
     },
     "metadata": {
      "needs_background": "light"
     },
     "output_type": "display_data"
    }
   ],
   "source": [
    "all_series=list(tenis_data['Series'].unique())\n",
    "fig,ax=plt.subplots(nrows=2,ncols=4,figsize=(24,8))\n",
    "i=0\n",
    "j=0\n",
    "for serie in all_series:\n",
    "    all_winners=tenis_data['Winner'][ (tenis_data['Series']==serie)   &   (tenis_data['Round']=='The Final')]\n",
    "    winners=pd.DataFrame(all_winners.value_counts().reset_index())\n",
    "    winners.rename(columns={'index':'Name','Winner':'Total Wins'}, inplace=True)\n",
    "    winners=winners.sort_values(by='Total Wins', ascending=False).head(5)\n",
    "    if j==4:\n",
    "        i=1\n",
    "        j=0\n",
    "    sns.barplot( ax=ax[i,j] ,x=winners[\"Name\"], y=winners[\"Total Wins\"], data=winners.dropna())\n",
    "    ax[i,j].set_title('Top winners in ' +serie)\n",
    "    ax[i,j].set_xlabel('Winners')\n",
    "    fig.tight_layout(pad=5)\n",
    "    j+=1\n",
    "plt.show()"
   ]
  },
  {
   "cell_type": "markdown",
   "id": "a9609c41",
   "metadata": {
    "papermill": {
     "duration": 0.021941,
     "end_time": "2022-03-10T00:22:59.723813",
     "exception": false,
     "start_time": "2022-03-10T00:22:59.701872",
     "status": "completed"
    },
    "tags": []
   },
   "source": [
    "## Nadal vs Djokovic.... who is the best?\n",
    "We know that Grand slams are the hardest and greates tournaments, which are usually win by the best players in the world, so let's compare the top biggest Grand Slam winners"
   ]
  },
  {
   "cell_type": "markdown",
   "id": "3cb85cf6",
   "metadata": {
    "papermill": {
     "duration": 0.022257,
     "end_time": "2022-03-10T00:22:59.768367",
     "exception": false,
     "start_time": "2022-03-10T00:22:59.746110",
     "status": "completed"
    },
    "tags": []
   },
   "source": [
    "### Rank"
   ]
  },
  {
   "cell_type": "code",
   "execution_count": 7,
   "id": "b1615448",
   "metadata": {
    "execution": {
     "iopub.execute_input": "2022-03-10T00:22:59.821464Z",
     "iopub.status.busy": "2022-03-10T00:22:59.820744Z",
     "iopub.status.idle": "2022-03-10T00:22:59.901939Z",
     "shell.execute_reply": "2022-03-10T00:22:59.901375Z",
     "shell.execute_reply.started": "2022-03-10T00:18:52.587937Z"
    },
    "papermill": {
     "duration": 0.111542,
     "end_time": "2022-03-10T00:22:59.902096",
     "exception": false,
     "start_time": "2022-03-10T00:22:59.790554",
     "status": "completed"
    },
    "tags": []
   },
   "outputs": [],
   "source": [
    "djokovic=tenis_data[['Date','Winner','Loser','WRank','LRank','Tournament']][( tenis_data['Winner']=='Djokovic N.') | (tenis_data['Loser']=='Djokovic N.')]\n",
    "nadal=tenis_data[['Date','Winner','Loser','WRank','LRank','Tournament']][( tenis_data['Winner']=='Nadal R.') | (tenis_data['Loser']=='Nadal R.')]\n",
    "def rank_mapping(data,tenis_player):\n",
    "    if data['Winner']==tenis_player:\n",
    "        return data['WRank']\n",
    "    else:\n",
    "        return data['LRank']\n",
    "djokovic['Rank']=djokovic.apply(lambda x: rank_mapping(x,'Djokovic N.'), axis=1)\n",
    "djokovic=djokovic.drop_duplicates(subset='Tournament')\n",
    "nadal['Rank']=nadal.apply(lambda x: rank_mapping(x,'Nadal R.'), axis=1)"
   ]
  },
  {
   "cell_type": "code",
   "execution_count": 8,
   "id": "c864c368",
   "metadata": {
    "execution": {
     "iopub.execute_input": "2022-03-10T00:22:59.989487Z",
     "iopub.status.busy": "2022-03-10T00:22:59.972674Z",
     "iopub.status.idle": "2022-03-10T00:23:00.335246Z",
     "shell.execute_reply": "2022-03-10T00:23:00.336124Z",
     "shell.execute_reply.started": "2022-03-10T00:19:00.155936Z"
    },
    "papermill": {
     "duration": 0.411793,
     "end_time": "2022-03-10T00:23:00.336415",
     "exception": false,
     "start_time": "2022-03-10T00:22:59.924622",
     "status": "completed"
    },
    "tags": []
   },
   "outputs": [
    {
     "data": {
      "image/png": "[encoded data removed]",
      "text/plain": [
       "<Figure size 432x576 with 2 Axes>"
      ]
     },
     "metadata": {
      "needs_background": "light"
     },
     "output_type": "display_data"
    }
   ],
   "source": [
    "import numpy as np\n",
    "fig,ax=plt.subplots(ncols=1,nrows=2,figsize=(6,8))\n",
    "sort_djo=djokovic[['Rank','Date']].sort_values(by='Date')\n",
    "sort_nad=nadal[['Rank','Date']].sort_values(by='Date')\n",
    "ax[0].plot(sort_djo['Date'],sort_djo['Rank'])\n",
    "ax[0].set_yticks(np.arange(djokovic['Rank'].min(), djokovic['Rank'].max(), 1.0))\n",
    "mean,std=norm.fit(sort_djo['Rank'].dropna())\n",
    "ax[0].set_title('Djokovic Ranking: '+'mean='+str(round(mean,0))+ '  std= '+str(round(std,0)))\n",
    "\n",
    "ax[1].plot(sort_nad['Date'],sort_nad['Rank'])\n",
    "ax[1].set_yticks(np.arange(nadal['Rank'].min(), nadal['Rank'].max(), 1.0))\n",
    "mean,std=norm.fit(sort_nad['Rank'].dropna())\n",
    "ax[1].set_title('Nadal Ranking: '+'mean='+str(round(mean,0))+ '  std= '+str(round(std,0)))\n",
    "\n",
    "plt.show()"
   ]
  },
  {
   "cell_type": "code",
   "execution_count": 9,
   "id": "0ca31d77",
   "metadata": {
    "execution": {
     "iopub.execute_input": "2022-03-10T00:23:00.409956Z",
     "iopub.status.busy": "2022-03-10T00:23:00.406654Z",
     "iopub.status.idle": "2022-03-10T00:23:00.412538Z",
     "shell.execute_reply": "2022-03-10T00:23:00.413052Z",
     "shell.execute_reply.started": "2022-03-10T00:19:12.792455Z"
    },
    "papermill": {
     "duration": 0.045674,
     "end_time": "2022-03-10T00:23:00.413229",
     "exception": false,
     "start_time": "2022-03-10T00:23:00.367555",
     "status": "completed"
    },
    "tags": []
   },
   "outputs": [
    {
     "name": "stdout",
     "output_type": "stream",
     "text": [
      "Number of consecutive days as number 1 for Djokovic: 1435\n",
      "Number of consecutive days as number 1 for Nadal: 388\n"
     ]
    }
   ],
   "source": [
    "def find_consecutives(date_col,search_col,data,pattern):\n",
    "    sort_data=data[[date_col,search_col]].sort_values(by=date_col)\n",
    "    items=[int(x) for x in data[search_col].to_list()]\n",
    "    ocurrencies=0\n",
    "    all_ocurrencies=[]\n",
    "    for i in range(len(items)):\n",
    "        if items[i]==pattern:\n",
    "            if ocurrencies==0:\n",
    "                first_ocurrencie=i\n",
    "            ocurrencies+=1\n",
    "            try:\n",
    "                if items[i+1]==1:\n",
    "                    continue\n",
    "                else:\n",
    "                    all_ocurrencies.append(ocurrencies,(data[date_col][first_ocurrencie:first_ocurrencie+1,].values[0],data[date_col][i:i+1,].values[0]  ))\n",
    "                    print(first_ocurrencie,i)\n",
    "            except:\n",
    "                all_ocurrencies.append( [ocurrencies,(data[date_col][first_ocurrencie:first_ocurrencie+1,].values[0],data[date_col][i:i+1,].values[0]  )] )\n",
    "                ocurrencies=0\n",
    "    number_of_days=[ int((all_ocurrencies[i][1][1]-all_ocurrencies[i][1][0] )/(1000000000*60*60*24))  for i in range(len(all_ocurrencies))]\n",
    "    return max(number_of_days)\n",
    "            \n",
    "    \n",
    "print('Number of consecutive days as number 1 for Djokovic: '+str(find_consecutives('Date','Rank',sort_djo,1)))\n",
    "print('Number of consecutive days as number 1 for Nadal: '+str(find_consecutives('Date','Rank',sort_nad,1)))"
   ]
  },
  {
   "cell_type": "code",
   "execution_count": 10,
   "id": "f91d9b3c",
   "metadata": {
    "execution": {
     "iopub.execute_input": "2022-03-10T00:23:00.464891Z",
     "iopub.status.busy": "2022-03-10T00:23:00.463964Z",
     "iopub.status.idle": "2022-03-10T00:23:00.728754Z",
     "shell.execute_reply": "2022-03-10T00:23:00.729227Z",
     "shell.execute_reply.started": "2022-03-10T00:19:25.947957Z"
    },
    "papermill": {
     "duration": 0.292232,
     "end_time": "2022-03-10T00:23:00.729403",
     "exception": false,
     "start_time": "2022-03-10T00:23:00.437171",
     "status": "completed"
    },
    "tags": []
   },
   "outputs": [
    {
     "data": {
      "text/plain": [
       "Text(0.5, 1.0, 'Total Wins:Nadal=20 Djokovic=27')"
      ]
     },
     "execution_count": 10,
     "metadata": {},
     "output_type": "execute_result"
    },
    {
     "data": {
      "image/png": "[encoded data removed]",
      "text/plain": [
       "<Figure size 432x288 with 1 Axes>"
      ]
     },
     "metadata": {
      "needs_background": "light"
     },
     "output_type": "display_data"
    }
   ],
   "source": [
    "tenis_data_comparison=tenis_data[ ((tenis_data['Winner']=='Djokovic N.') & (tenis_data['Loser']=='Nadal R.')) |( (tenis_data['Winner']=='Nadal R.')  &  (tenis_data['Loser']=='Djokovic N.'))]\n",
    "sns.countplot(x='Winner',hue='Surface',data=tenis_data_comparison)\n",
    "plt.title('Total Wins:Nadal='+str(tenis_data_comparison['Winner'].value_counts()[1])+ ' Djokovic='+str(tenis_data_comparison['Winner'].value_counts()[0]) )"
   ]
  },
  {
   "cell_type": "markdown",
   "id": "2f14c3fd",
   "metadata": {
    "execution": {
     "iopub.execute_input": "2022-03-10T00:19:37.859266Z",
     "iopub.status.busy": "2022-03-10T00:19:37.858923Z",
     "iopub.status.idle": "2022-03-10T00:19:37.867055Z",
     "shell.execute_reply": "2022-03-10T00:19:37.866020Z",
     "shell.execute_reply.started": "2022-03-10T00:19:37.859227Z"
    },
    "papermill": {
     "duration": 0.0249,
     "end_time": "2022-03-10T00:23:00.779526",
     "exception": false,
     "start_time": "2022-03-10T00:23:00.754626",
     "status": "completed"
    },
    "tags": []
   },
   "source": [
    "So between Djokovic and Nadal we can conclude:\n",
    "\n",
    "1) Djokovic has won more matches against Nadal.\n",
    "\n",
    "2) Djokovic has kept rank #1 many more days than Nadal.\n",
    "\n",
    "3) Nadal ranking has less standard deviation than Djokovic, indicating that his performance does not vary much, even at top #5, this would not be the case if Djokovic would have fallen to #22.\n",
    "\n",
    "4) Depending on the surface, on or another may have the advantage.\n",
    "\n",
    "\n",
    "**Note**: Data has only the entry rank to tournaments, there are slight variations when compared with real rankings."
   ]
  },
  {
   "cell_type": "code",
   "execution_count": 11,
   "id": "bd1ad836",
   "metadata": {
    "execution": {
     "iopub.execute_input": "2022-03-10T00:23:00.839575Z",
     "iopub.status.busy": "2022-03-10T00:23:00.838871Z",
     "iopub.status.idle": "2022-03-10T00:23:00.876038Z",
     "shell.execute_reply": "2022-03-10T00:23:00.875474Z",
     "shell.execute_reply.started": "2022-03-10T00:19:51.333973Z"
    },
    "papermill": {
     "duration": 0.07128,
     "end_time": "2022-03-10T00:23:00.876231",
     "exception": false,
     "start_time": "2022-03-10T00:23:00.804951",
     "status": "completed"
    },
    "tags": []
   },
   "outputs": [],
   "source": [
    "#Another way to analyze the rivality against this two is considering people's opinion, so let's analyze bet information\n",
    "#We will just analyze bet365 which is the most popular among the ones available\n",
    "\n",
    "#But before that, this is what i found about bet365 odss, lets say that odds is $10 this means that, per each dolar you spend you will win $10, retuning $11 dollars\n",
    "#This means that players that are more likely to win would have lower odds.\n",
    "\n",
    "bets=tenis_data[['Date','Winner','Loser','WRank','LRank','Tournament','B365W','B365L']][ ((tenis_data['Winner']=='.') & (tenis_data['Loser']=='Nadal R.')) |( (tenis_data['Winner']=='Nadal R.')  &  (tenis_data['Loser']=='Djokovic N.'))]\n",
    "bets['Year']=tenis_data['Date'].dt.year\n",
    "def rank_mapping(data,tenis_player):\n",
    "    if data['Winner']==tenis_player:\n",
    "        return data['B365W']\n",
    "    else:\n",
    "        return data['B365L']\n",
    "    \n",
    "bets['bets_nad']=bets.apply(lambda x: rank_mapping(x,'Nadal R.'), axis=1)\n",
    "bets['bets_djo']=bets.apply(lambda x: rank_mapping(x,'Djokovic N.'), axis=1)                                                                                           "
   ]
  },
  {
   "cell_type": "code",
   "execution_count": 12,
   "id": "ceeaeb96",
   "metadata": {
    "execution": {
     "iopub.execute_input": "2022-03-10T00:23:00.937036Z",
     "iopub.status.busy": "2022-03-10T00:23:00.934795Z",
     "iopub.status.idle": "2022-03-10T00:23:01.359903Z",
     "shell.execute_reply": "2022-03-10T00:23:01.359349Z",
     "shell.execute_reply.started": "2022-03-10T00:19:55.781307Z"
    },
    "papermill": {
     "duration": 0.458434,
     "end_time": "2022-03-10T00:23:01.360083",
     "exception": false,
     "start_time": "2022-03-10T00:23:00.901649",
     "status": "completed"
    },
    "tags": []
   },
   "outputs": [
    {
     "data": {
      "text/plain": [
       "<matplotlib.legend.Legend at 0x7fb60532c090>"
      ]
     },
     "execution_count": 12,
     "metadata": {},
     "output_type": "execute_result"
    },
    {
     "data": {
      "image/png": "[encoded data removed]",
      "text/plain": [
       "<Figure size 432x288 with 1 Axes>"
      ]
     },
     "metadata": {
      "needs_background": "light"
     },
     "output_type": "display_data"
    }
   ],
   "source": [
    "avg_bets=bets[['Year','bets_nad','bets_djo']].groupby('Year').mean().reset_index()\n",
    "avg_bets['bets_nad']=avg_bets['bets_nad'].apply(lambda x: round(x,1))\n",
    "avg_bets['bets_djo']=avg_bets['bets_djo'].apply(lambda x: round(x,1))\n",
    "plt.plot(avg_bets['Year'],avg_bets['bets_nad'],label='Nadal')\n",
    "plt.plot(avg_bets['Year'],avg_bets['bets_djo'],label='Djokovic')\n",
    "plt.title('Nadal vs Djojovic Bet365 ODDS')\n",
    "Years=avg_bets['Year'].unique().tolist()\n",
    "i=0\n",
    "for dot1,dot2 in zip(avg_bets['bets_nad'],avg_bets['bets_djo']):\n",
    "    plt.text(Years[i],dot1,dot1,fontdict={'fontsize': 8, 'fontweight': 'medium'})\n",
    "    plt.text(Years[i],dot2,dot2,fontdict={'fontsize': 8, 'fontweight': 'medium'})\n",
    "    i+=1\n",
    "plt.legend()\n"
   ]
  },
  {
   "cell_type": "markdown",
   "id": "c00fe647",
   "metadata": {
    "execution": {
     "iopub.execute_input": "2022-03-10T00:20:04.240963Z",
     "iopub.status.busy": "2022-03-10T00:20:04.240648Z",
     "iopub.status.idle": "2022-03-10T00:20:04.248970Z",
     "shell.execute_reply": "2022-03-10T00:20:04.247481Z",
     "shell.execute_reply.started": "2022-03-10T00:20:04.240932Z"
    },
    "papermill": {
     "duration": 0.027015,
     "end_time": "2022-03-10T00:23:01.414268",
     "exception": false,
     "start_time": "2022-03-10T00:23:01.387253",
     "status": "completed"
    },
    "tags": []
   },
   "source": [
    "* From 2008 to 2014 Djokovic bet was paying more money per each dolar spent, this means that statistically was more likely that Nadal wins, same ocurrs during 2017\n",
    "\n",
    "* During 2015 to end of 2016 Nadal was paying more money per dollar spent, this is not a coincidence, because during that period Nadal was not within the top 5 in the rank."
   ]
  }
 ],
 "metadata": {
  "kernelspec": {
   "display_name": "Python 3",
   "language": "python",
   "name": "python3"
  },
  "language_info": {
   "codemirror_mode": {
    "name": "ipython",
    "version": 3
   },
   "file_extension": ".py",
   "mimetype": "text/x-python",
   "name": "python",
   "nbconvert_exporter": "python",
   "pygments_lexer": "ipython3",
   "version": "3.12.3"
  },
  "papermill": {
   "default_parameters": {},
   "duration": 16.852304,
   "end_time": "2022-03-10T00:23:02.151570",
   "environment_variables": {},
   "exception": null,
   "input_path": "__notebook__.ipynb",
   "output_path": "__notebook__.ipynb",
   "parameters": {},
   "start_time": "2022-03-10T00:22:45.299266",
   "version": "2.3.3"
  }
 },
 "nbformat": 4,
 "nbformat_minor": 5
}
